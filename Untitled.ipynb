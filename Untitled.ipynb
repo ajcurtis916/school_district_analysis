{
 "cells": [
  {
   "cell_type": "code",
   "execution_count": null,
   "id": "03ea1b75",
   "metadata": {},
   "outputs": [],
   "source": [
    "student_data_df.loc[((student_data_df[\"grade\"]==\"10th\") & (student_data_df[\"school_name\"]==\"Thomas High School\"))\n",
    "                    | ((student_data_df[\"grade\"]==\"11th\") & (student_data_df[\"school_name\"]==\"Thomas High School\"))\n",
    "                    | ((student_data_df[\"grade\"]==\"12th\") & (student_data_df[\"school_name\"]==\"Thomas High School\")),\"Student ID\"].count()"
   ]
  },
  {
   "cell_type": "code",
   "execution_count": null,
   "id": "d7f15c1d",
   "metadata": {},
   "outputs": [],
   "source": [
    "per_school_summary_df=per_school_summary_df[\"Thomas High School\",\"% Passing Math\"].replace(\n",
    "    {66.911315:93.18568994889267})"
   ]
  }
 ],
 "metadata": {
  "kernelspec": {
   "display_name": "PythonData",
   "language": "python",
   "name": "pythondata"
  },
  "language_info": {
   "codemirror_mode": {
    "name": "ipython",
    "version": 3
   },
   "file_extension": ".py",
   "mimetype": "text/x-python",
   "name": "python",
   "nbconvert_exporter": "python",
   "pygments_lexer": "ipython3",
   "version": "3.7.11"
  }
 },
 "nbformat": 4,
 "nbformat_minor": 5
}
